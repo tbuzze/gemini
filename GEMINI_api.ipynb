{
 "cells": [
  {
   "cell_type": "code",
   "execution_count": null,
   "id": "31a6de44-b845-4666-89a0-99c3dbbaa0a7",
   "metadata": {},
   "outputs": [],
   "source": [
    "#-- instalando as libs\n",
    "#!pip install google-generativeai\n",
    "#!pip install google-cloud-aiplatform"
   ]
  },
  {
   "cell_type": "code",
   "execution_count": null,
   "id": "434fd49a-370d-470c-bcf5-38a8d9541062",
   "metadata": {},
   "outputs": [],
   "source": [
    "#-- carregando as libs\n",
    "import vertexai\n",
    "\n",
    "from google.oauth2 import service_account\n",
    "from vertexai.preview.generative_models import (\n",
    "    GenerationConfig,\n",
    "    GenerationResponse,\n",
    "    GenerativeModel,\n",
    "    Image,\n",
    "    Part,\n",
    ")"
   ]
  },
  {
   "cell_type": "code",
   "execution_count": null,
   "id": "9fedb575-25cf-45f1-9855-ee286d1cdec8",
   "metadata": {},
   "outputs": [],
   "source": [
    "#-- autenticando\n",
    "credentials = service_account.Credentials\\\n",
    "                    .from_service_account_file('.json')\n",
    "\n",
    "PROJECT_ID = \"PROJECT ID\"\n",
    "LOCATION = \"us-central1\"\n",
    "\n",
    "vertexai.init(project=PROJECT_ID, \n",
    "              location=LOCATION,\n",
    "              credentials=credentials)"
   ]
  },
  {
   "cell_type": "code",
   "execution_count": null,
   "id": "983999df-601e-49d9-9915-389924e0d7ba",
   "metadata": {},
   "outputs": [],
   "source": [
    "#-- criando a função\n",
    "Contents = str \n",
    "\n",
    "def gerar_texto(\n",
    "    model: GenerativeModel,\n",
    "    contents: Contents,\n",
    "    temperature: float = 0.0,\n",
    "    top_p: float = 0.0,\n",
    "    top_k: int = 1,\n",
    ") -> list[GenerationResponse]:\n",
    "\n",
    "    generation_config = GenerationConfig(\n",
    "        temperature=temperature,\n",
    "        top_p=top_p,\n",
    "        top_k=top_k,\n",
    "        candidate_count=1,\n",
    "        max_output_tokens=2100,\n",
    "    )\n",
    "\n",
    "    responses = model.gerar_texto(\n",
    "        contents,\n",
    "        generation_config=generation_config,\n",
    "        stream=True,\n",
    "    )\n",
    "\n",
    "    return [responses] if isinstance(responses, GenerationResponse) else list(responses)"
   ]
  },
  {
   "cell_type": "code",
   "execution_count": null,
   "id": "ff39d065-addc-4613-97ed-4249c3c9e942",
   "metadata": {},
   "outputs": [],
   "source": [
    "#-- definindo o modelo como GEMINI\n",
    "model = GenerativeModel(\"gemini-pro\")"
   ]
  },
  {
   "cell_type": "code",
   "execution_count": null,
   "id": "5ad6ef08-39bb-4c99-96ee-f039e4481682",
   "metadata": {
    "scrolled": true
   },
   "outputs": [],
   "source": [
    "#-- definindo o contexto e aplicando na função\n",
    "contents = \"\"\"\n",
    "CONTEXT\n",
    "\n",
    "\"\"\"\n",
    "responses = generate_content(model, contents)"
   ]
  },
  {
   "cell_type": "code",
   "execution_count": null,
   "id": "cb4e49ec-d6a7-43e8-b6cc-9603d6f6e33f",
   "metadata": {},
   "outputs": [],
   "source": [
    "#-- imprimindo a resposta\n",
    "keywords =[]\n",
    "for i,x in enumerate(responses):\n",
    "    print(responses[i].text)\n",
    "    keywords.append(responses[i].text)\n",
    "\n",
    "keywords"
   ]
  }
 ],
 "metadata": {
  "kernelspec": {
   "display_name": "Python 3 (ipykernel)",
   "language": "python",
   "name": "python3"
  },
  "language_info": {
   "codemirror_mode": {
    "name": "ipython",
    "version": 3
   },
   "file_extension": ".py",
   "mimetype": "text/x-python",
   "name": "python",
   "nbconvert_exporter": "python",
   "pygments_lexer": "ipython3",
   "version": "3.9.16"
  }
 },
 "nbformat": 4,
 "nbformat_minor": 5
}
